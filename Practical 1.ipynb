{
 "cells": [
  {
   "cell_type": "code",
   "execution_count": 1,
   "id": "59cecad2",
   "metadata": {},
   "outputs": [],
   "source": [
    "data={'Boys':[72,68,70,69,74],'Girls':[63,65,69,62,61]}"
   ]
  },
  {
   "cell_type": "code",
   "execution_count": 2,
   "id": "fac2bcf1",
   "metadata": {},
   "outputs": [],
   "source": [
    "New_data=[{'Boys':data['Boys'][i],'Girls':data['Girls'][i]} for i in range(len(data['Boys']))]"
   ]
  },
  {
   "cell_type": "code",
   "execution_count": 3,
   "id": "53433555",
   "metadata": {},
   "outputs": [
    {
     "name": "stdout",
     "output_type": "stream",
     "text": [
      "[{'Boys': 72, 'Girls': 63}, {'Boys': 68, 'Girls': 65}, {'Boys': 70, 'Girls': 69}, {'Boys': 69, 'Girls': 62}, {'Boys': 74, 'Girls': 61}]\n"
     ]
    }
   ],
   "source": [
    "print(New_data)"
   ]
  },
  {
   "cell_type": "code",
   "execution_count": null,
   "id": "3edc821b",
   "metadata": {},
   "outputs": [],
   "source": []
  }
 ],
 "metadata": {
  "kernelspec": {
   "display_name": "Python 3 (ipykernel)",
   "language": "python",
   "name": "python3"
  },
  "language_info": {
   "codemirror_mode": {
    "name": "ipython",
    "version": 3
   },
   "file_extension": ".py",
   "mimetype": "text/x-python",
   "name": "python",
   "nbconvert_exporter": "python",
   "pygments_lexer": "ipython3",
   "version": "3.9.13"
  }
 },
 "nbformat": 4,
 "nbformat_minor": 5
}
