{
 "cells": [
  {
   "cell_type": "code",
   "execution_count": 22,
   "id": "a0504479",
   "metadata": {},
   "outputs": [],
   "source": [
    "marks_data={'eng':4,'hindi':4,'maths':4,'physics':4,'chemistry':4}"
   ]
  },
  {
   "cell_type": "code",
   "execution_count": 25,
   "id": "7c7b7344",
   "metadata": {},
   "outputs": [
    {
     "name": "stdout",
     "output_type": "stream",
     "text": [
      "4.0\n"
     ]
    }
   ],
   "source": [
    "res = 0\n",
    "for val in marks_data.values():\n",
    "    res += val\n",
    "\n",
    "res = res / len(marks_data)\n",
    "print(res)"
   ]
  },
  {
   "cell_type": "code",
   "execution_count": null,
   "id": "77587e8c",
   "metadata": {},
   "outputs": [],
   "source": []
  }
 ],
 "metadata": {
  "kernelspec": {
   "display_name": "Python 3 (ipykernel)",
   "language": "python",
   "name": "python3"
  },
  "language_info": {
   "codemirror_mode": {
    "name": "ipython",
    "version": 3
   },
   "file_extension": ".py",
   "mimetype": "text/x-python",
   "name": "python",
   "nbconvert_exporter": "python",
   "pygments_lexer": "ipython3",
   "version": "3.9.13"
  }
 },
 "nbformat": 4,
 "nbformat_minor": 5
}
