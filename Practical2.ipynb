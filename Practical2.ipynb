{
 "cells": [
  {
   "cell_type": "code",
   "execution_count": 8,
   "id": "0a4c91e1",
   "metadata": {},
   "outputs": [],
   "source": [
    "import numpy as np\n"
   ]
  },
  {
   "cell_type": "code",
   "execution_count": 9,
   "id": "0707be95",
   "metadata": {},
   "outputs": [
    {
     "name": "stdout",
     "output_type": "stream",
     "text": [
      "[[ 7 24  9 20  5]\n",
      " [15  1 14 14 19]\n",
      " [ 8 13 22 10 19]\n",
      " [21 20 11  4 21]\n",
      " [ 2  6 15 16  0]]\n"
     ]
    }
   ],
   "source": [
    "array1=np.random.randint(25,size=(5,5))\n",
    "print(array1)"
   ]
  },
  {
   "cell_type": "code",
   "execution_count": 10,
   "id": "e3a6d7d6",
   "metadata": {},
   "outputs": [
    {
     "name": "stdout",
     "output_type": "stream",
     "text": [
      "Mean 12.64\n",
      "Standard Deviation 7.024983985746871\n",
      "Variance 49.3504\n"
     ]
    }
   ],
   "source": [
    "print(\"Mean\",array1.mean())\n",
    "print(\"Standard Deviation\",array1.std())\n",
    "print(\"Variance\",array1.var())"
   ]
  },
  {
   "cell_type": "code",
   "execution_count": 11,
   "id": "a10664a9",
   "metadata": {},
   "outputs": [
    {
     "name": "stdout",
     "output_type": "stream",
     "text": [
      "[56 48 22 41 78 91 24 46  8 33]\n"
     ]
    }
   ],
   "source": [
    "B=[56,48,22,41,78,91,24,46,8,33]\n",
    "array2=np.array(B)\n",
    "print(array2)"
   ]
  },
  {
   "cell_type": "code",
   "execution_count": 12,
   "id": "52f00c57",
   "metadata": {},
   "outputs": [
    {
     "name": "stdout",
     "output_type": "stream",
     "text": [
      "SortedIndices [8 2 6 9 3 7 1 0 4 5]\n"
     ]
    }
   ],
   "source": [
    "print(\"SortedIndices\",np.argsort(array2))"
   ]
  },
  {
   "cell_type": "code",
   "execution_count": 27,
   "id": "ebf9b1ad",
   "metadata": {},
   "outputs": [
    {
     "name": "stdout",
     "output_type": "stream",
     "text": [
      "Enter the row size : 3\n",
      "Enter the column size : 4\n",
      "[[ 6  7  3  4]\n",
      " [10  2  0  5]\n",
      " [ 4  1  6  0]]\n"
     ]
    }
   ],
   "source": [
    "m=int(input(\"Enter the row size : \"))\n",
    "n=int(input(\"Enter the column size : \"))\n",
    "array3=np.random.randint(m*n,size=(m,n))\n",
    "print(array3)\n"
   ]
  },
  {
   "cell_type": "code",
   "execution_count": 29,
   "id": "c20d1429",
   "metadata": {},
   "outputs": [
    {
     "name": "stdout",
     "output_type": "stream",
     "text": [
      "shape (3, 4)\n",
      "Type <class 'numpy.ndarray'>\n"
     ]
    }
   ],
   "source": [
    "print(\"shape\",array3.shape)\n",
    "print(\"Type\",type(array3))\n",
    "array5=array3.reshape(4,3)\n"
   ]
  },
  {
   "cell_type": "code",
   "execution_count": 30,
   "id": "44a5c818",
   "metadata": {},
   "outputs": [
    {
     "data": {
      "text/plain": [
       "(4, 3)"
      ]
     },
     "execution_count": 30,
     "metadata": {},
     "output_type": "execute_result"
    }
   ],
   "source": [
    "array5.shape"
   ]
  },
  {
   "cell_type": "code",
   "execution_count": 7,
   "id": "cc1fb2d6",
   "metadata": {},
   "outputs": [],
   "source": [
    "c=[3,0,0,1,4,np.nan,5,np.nan,6,0,5]\n",
    "array4=np.array(c)"
   ]
  },
  {
   "cell_type": "code",
   "execution_count": 41,
   "id": "ea0d54ae",
   "metadata": {},
   "outputs": [
    {
     "name": "stdout",
     "output_type": "stream",
     "text": [
      "[1 2 9]\n",
      "[ 0  3  4  5  6  7  8 10]\n",
      "[5 7]\n"
     ]
    }
   ],
   "source": [
    "print(np.where(array4==0)[0])\n",
    "print(np.where(array4!=0)[0])\n",
    "array6=(np.isnan(array4))\n",
    "array6\n",
    "print(np.where(array6==True)[0])"
   ]
  },
  {
   "cell_type": "code",
   "execution_count": null,
   "id": "db4f10c5",
   "metadata": {},
   "outputs": [],
   "source": []
  },
  {
   "cell_type": "code",
   "execution_count": null,
   "id": "7ed7654d",
   "metadata": {},
   "outputs": [],
   "source": []
  }
 ],
 "metadata": {
  "kernelspec": {
   "display_name": "Python 3 (ipykernel)",
   "language": "python",
   "name": "python3"
  },
  "language_info": {
   "codemirror_mode": {
    "name": "ipython",
    "version": 3
   },
   "file_extension": ".py",
   "mimetype": "text/x-python",
   "name": "python",
   "nbconvert_exporter": "python",
   "pygments_lexer": "ipython3",
   "version": "3.9.13"
  }
 },
 "nbformat": 4,
 "nbformat_minor": 5
}
